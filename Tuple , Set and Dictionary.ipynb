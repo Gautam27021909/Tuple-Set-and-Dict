{
 "cells": [
  {
   "cell_type": "markdown",
   "id": "b13341cb",
   "metadata": {},
   "source": [
    "## Q1. What are the characteristics of the tuples? Is tuple immutable?\n",
    "#### Answer:- Tuple items are ordered, unchangeable, and allow duplicate values. Yes,Tuples are immutable"
   ]
  },
  {
   "cell_type": "markdown",
   "id": "8ea0e381",
   "metadata": {},
   "source": [
    "## Q2. What are the two tuple methods in python? Give an example of each method. Give a reason why tuples have only two in-built methods as compared to Lists.\n",
    "#### Answer:- The two method of tuple are count() and index(). Tuples have only two in-built methods as compare to lists because tuples are immutable so tuple cannot change once they have been created. But lists are mutable so it can change after creating. That why lists have more method campare to the tuples. In tuple we can do only count and inddex method  "
   ]
  },
  {
   "cell_type": "code",
   "execution_count": 12,
   "id": "4984cf7e",
   "metadata": {},
   "outputs": [
    {
     "name": "stdout",
     "output_type": "stream",
     "text": [
      "2\n"
     ]
    }
   ],
   "source": [
    "#Example of count() method\n",
    "tuple1 = (1,2,3,4,5,7,8,3,6)\n",
    "print(tuple1.count(3))\n"
   ]
  },
  {
   "cell_type": "code",
   "execution_count": 13,
   "id": "47dd6089",
   "metadata": {},
   "outputs": [
    {
     "name": "stdout",
     "output_type": "stream",
     "text": [
      "3\n"
     ]
    }
   ],
   "source": [
    "#Example of index() method\n",
    "print(tuple1.index(4))"
   ]
  },
  {
   "cell_type": "markdown",
   "id": "1d91a3f0",
   "metadata": {},
   "source": [
    "## Q3. Which collection datatypes in python do not allow duplicate items? Write a code using a set to remove duplicates from the given list.\n",
    "## List = [1, 1, 1, 2, 1, 3, 1, 4, 2, 1, 2, 2, 2, 3, 2, 4, 3, 1, 3, 2, 3, 3, 3, 4, 4, 1, 4, 2, 4, 3, 4, 4]\n",
    "#### Answer:- Sets are not allow duplicate items "
   ]
  },
  {
   "cell_type": "code",
   "execution_count": 19,
   "id": "1f167b9c",
   "metadata": {},
   "outputs": [
    {
     "name": "stdout",
     "output_type": "stream",
     "text": [
      "[1, 2, 3, 4]\n"
     ]
    }
   ],
   "source": [
    "List = [1, 1, 1, 2, 1, 3, 1, 4, 2, 1, 2, 2, 2, 3, 2, 4, 3, 1, 3, 2, 3, 3, 3, 4, 4, 1, 4, 2, 4, 3, 4, 4]\n",
    "list1 = [*set(List)]\n",
    "print(list1)"
   ]
  },
  {
   "cell_type": "markdown",
   "id": "6202bfbc",
   "metadata": {},
   "source": [
    "## Q4. Explain the difference between the union() and update() methods for a set. Give an example of each method.\n",
    "#### Answer:-  update() adds all missing elements to the set on which it is called whereas set. union() creates a new set."
   ]
  },
  {
   "cell_type": "code",
   "execution_count": 42,
   "id": "d3a1582a",
   "metadata": {},
   "outputs": [
    {
     "name": "stdout",
     "output_type": "stream",
     "text": [
      "{1, 2, 34, 66, 6, 7, 8, 76, 45, 13, 22, 88}\n",
      "{1, 2, 34, 66, 7, 8, 45}\n",
      "{13, 6, 22, 88, 76, 45}\n"
     ]
    }
   ],
   "source": [
    "a={1,2,45,7,34,8,66}\n",
    "b={76,45,22,13,6,88}\n",
    "print(a.union(b))\n",
    "print(a)\n",
    "print(b)"
   ]
  },
  {
   "cell_type": "code",
   "execution_count": 39,
   "id": "f09a9fac",
   "metadata": {},
   "outputs": [
    {
     "name": "stdout",
     "output_type": "stream",
     "text": [
      "{1, 2, 34, 66, 6, 7, 8, 45, 13, 22, 88}\n"
     ]
    }
   ],
   "source": [
    "a={1,2,45,7,34,8,66}\n",
    "b={1,2,45,22,13,6,88}\n",
    "a.update(b)\n",
    "print(a)"
   ]
  },
  {
   "cell_type": "markdown",
   "id": "bc5523b5",
   "metadata": {},
   "source": [
    "## Q5. What is a dictionary? Give an example. Also, state whether a dictionary is ordered or unordered.\n",
    "#### Answer:- The dictionary is an unordered collection that contains key:value pairs separated by commas inside curly brackets. Dictionaries are unordered."
   ]
  },
  {
   "cell_type": "code",
   "execution_count": 49,
   "id": "1e70724f",
   "metadata": {},
   "outputs": [
    {
     "name": "stdout",
     "output_type": "stream",
     "text": [
      "{'Name': 'Gautam', 'Age': 20, 'Course': 'Pwskills'}\n",
      "dict_keys(['Name', 'Age', 'Course'])\n",
      "dict_values(['Gautam', 20, 'Pwskills'])\n"
     ]
    }
   ],
   "source": [
    "#Example of the dictionary\n",
    "dic1 = {\"Name\" : \"Gautam\", \"Age\":20,\"Course\":\"Pwskills\"}\n",
    "print(dic1)\n",
    "print(dic1.keys())\n",
    "print(dic1.values())"
   ]
  },
  {
   "cell_type": "markdown",
   "id": "b23c1ef6",
   "metadata": {},
   "source": [
    "## Q6. Can we create a nested dictionary? If so, please give an example by creating a simple one-level nested dictionary.\n",
    "#### Answer:- Yes,  we can create a nested dictionary.\n"
   ]
  },
  {
   "cell_type": "code",
   "execution_count": 2,
   "id": "312fc180",
   "metadata": {},
   "outputs": [
    {
     "name": "stdout",
     "output_type": "stream",
     "text": [
      "{'course': {'DSM': 'Data science Master'}}\n"
     ]
    }
   ],
   "source": [
    "#Example of the nested dictionary\n",
    "dic={\"course\": {\"DSM\" : \"Data science Master\"}}\n",
    "print(dic)"
   ]
  },
  {
   "cell_type": "markdown",
   "id": "9505de38",
   "metadata": {},
   "source": [
    "## Q7. Using setdefault() method, create key named topics in the given dictionary and also add the value of the key as this list ['Python', 'Machine Learning’, 'Deep Learning']\n",
    "## dict1 = {'language' : 'Python', 'course': 'Data Science Masters'}"
   ]
  },
  {
   "cell_type": "code",
   "execution_count": 9,
   "id": "5420ccad",
   "metadata": {},
   "outputs": [
    {
     "name": "stdout",
     "output_type": "stream",
     "text": [
      "Python\n",
      "Data Science Masters\n"
     ]
    }
   ],
   "source": [
    "dict1 = {'language' : 'Python', 'course': 'Data Science Masters'}\n",
    "print(dict1.setdefault('language'))\n",
    "print(dict1.setdefault('course'))"
   ]
  },
  {
   "cell_type": "code",
   "execution_count": 12,
   "id": "b13be27a",
   "metadata": {},
   "outputs": [
    {
     "name": "stdout",
     "output_type": "stream",
     "text": [
      "{'language': 'Python', 'course': 'Data Science Masters', 'key': \"['Python', 'Machine Learning’, 'Deep Learning']\"}\n"
     ]
    }
   ],
   "source": [
    "dict1\n",
    "dict1.setdefault(\"key\",\"['Python', 'Machine Learning’, 'Deep Learning']\")\n",
    "print(dict1)"
   ]
  },
  {
   "cell_type": "markdown",
   "id": "6cae6303",
   "metadata": {},
   "source": [
    "## Q8. What are the three view objects in dictionaries? Use the three in-built methods in python to display these three view objects for the given dictionary.\n",
    "## dict1 = {'Sport': 'Cricket' , 'Teams': ['India', 'Australia', 'England', 'South Africa', 'Sri Lanka', 'New Zealand']}\n",
    "#### Answer:- The main view objects of dictionary in python are keys, values and items."
   ]
  },
  {
   "cell_type": "code",
   "execution_count": 13,
   "id": "f679db6d",
   "metadata": {},
   "outputs": [
    {
     "data": {
      "text/plain": [
       "dict_items([('Sport', 'Cricket'), ('Teams', ['India', 'Australia', 'England', 'South Africa', 'Sri Lanka', 'New Zealand'])])"
      ]
     },
     "execution_count": 13,
     "metadata": {},
     "output_type": "execute_result"
    }
   ],
   "source": [
    "dict1 = {'Sport': 'Cricket' , 'Teams': ['India', 'Australia', 'England', 'South Africa', 'Sri Lanka', 'New Zealand']}\n",
    "dict1.items()"
   ]
  },
  {
   "cell_type": "code",
   "execution_count": 14,
   "id": "0d640d50",
   "metadata": {},
   "outputs": [
    {
     "data": {
      "text/plain": [
       "dict_keys(['Sport', 'Teams'])"
      ]
     },
     "execution_count": 14,
     "metadata": {},
     "output_type": "execute_result"
    }
   ],
   "source": [
    "dict1.keys()"
   ]
  },
  {
   "cell_type": "code",
   "execution_count": 15,
   "id": "484d3cbd",
   "metadata": {},
   "outputs": [
    {
     "data": {
      "text/plain": [
       "dict_values(['Cricket', ['India', 'Australia', 'England', 'South Africa', 'Sri Lanka', 'New Zealand']])"
      ]
     },
     "execution_count": 15,
     "metadata": {},
     "output_type": "execute_result"
    }
   ],
   "source": [
    "dict1.values()"
   ]
  }
 ],
 "metadata": {
  "kernelspec": {
   "display_name": "Python 3 (ipykernel)",
   "language": "python",
   "name": "python3"
  },
  "language_info": {
   "codemirror_mode": {
    "name": "ipython",
    "version": 3
   },
   "file_extension": ".py",
   "mimetype": "text/x-python",
   "name": "python",
   "nbconvert_exporter": "python",
   "pygments_lexer": "ipython3",
   "version": "3.9.13"
  }
 },
 "nbformat": 4,
 "nbformat_minor": 5
}
